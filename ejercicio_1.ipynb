{
 "cells": [
  {
   "cell_type": "code",
   "execution_count": 42,
   "metadata": {},
   "outputs": [
    {
     "name": "stdout",
     "output_type": "stream",
     "text": [
      "Populating the interactive namespace from numpy and matplotlib\n"
     ]
    }
   ],
   "source": [
    "import numpy as np\n",
    "import matplotlib.pyplot as plt\n",
    "#import random\n",
    "from mpl_toolkits.mplot3d import Axes3D\n",
    "%pylab inline"
   ]
  },
  {
   "cell_type": "code",
   "execution_count": 43,
   "metadata": {},
   "outputs": [
    {
     "name": "stdout",
     "output_type": "stream",
     "text": [
      "14 14\n"
     ]
    }
   ],
   "source": [
    "x = [0.1,0.2,0.3,0.4,0.5,0.6,0.7,0.8,0.9,1,0.10,0.5,0.6,0.87]\n",
    "y=  [0.15,0.28,0.34,0.46,0.54,0.68,0.79,0.82,0.91,1,0.12,0.36,0.68,0.24]\n",
    "print(len(x),len(y))\n"
   ]
  },
  {
   "cell_type": "code",
   "execution_count": 44,
   "metadata": {},
   "outputs": [],
   "source": [
    "x2 = [(dato)**2 for dato in x]\n",
    "xs=sum(x)\n",
    "xss=sum(x2)\n",
    "\n",
    "y2 = [(dato)**2 for dato in y]\n",
    "ys=sum(y)\n",
    "yss=sum(y2)\n",
    "xy=0 \n",
    "coun = 0\n",
    "while count < 10:\n",
    "         s=x[coun]*y[coun]\n",
    "         xy=s+xy\n",
    "         coun=coun+1\n",
    "\n",
    "intercepto=(ys*xss-xs*xy)/(10*xss-xs*xs)\n",
    "pendiente=(10*xy-xs*ys)/(10*xss-xs*xs)\n"
   ]
  },
  {
   "cell_type": "code",
   "execution_count": 45,
   "metadata": {},
   "outputs": [
    {
     "name": "stdout",
     "output_type": "stream",
     "text": [
      "Con las siguientes distribuciones;\n",
      "Obtenamos la recta siguiente:\n",
      "pendiente\n",
      "11.078635397843504\n",
      "ordenada\n",
      "-7.6495269961675305\n"
     ]
    },
    {
     "data": {
      "text/plain": [
       "Text(0,0.5,'y')"
      ]
     },
     "execution_count": 45,
     "metadata": {},
     "output_type": "execute_result"
    },
    {
     "data": {
      "image/png": "[encoded data removed]",
      "text/plain": [
       "<Figure size 432x288 with 1 Axes>"
      ]
     },
     "metadata": {},
     "output_type": "display_data"
    }
   ],
   "source": [
    "print(\"Con las siguientes distribuciones;\")\n",
    "print(\"Obtenamos la recta siguiente:\")\n",
    "print(\"pendiente\")\n",
    "print(pendiente)\n",
    "\n",
    "print(\"ordenada\")\n",
    "print(ordenada)\n",
    "plt.plot(x,y,'s')\n",
    "plt.xlabel('x')\n",
    "plt.ylabel('y')\n"
   ]
  },
  {
   "cell_type": "code",
   "execution_count": null,
   "metadata": {},
   "outputs": [],
   "source": []
  }
 ],
 "metadata": {
  "kernelspec": {
   "display_name": "Python 3",
   "language": "python",
   "name": "python3"
  },
  "language_info": {
   "codemirror_mode": {
    "name": "ipython",
    "version": 3
   },
   "file_extension": ".py",
   "mimetype": "text/x-python",
   "name": "python",
   "nbconvert_exporter": "python",
   "pygments_lexer": "ipython3",
   "version": "3.6.5"
  }
 },
 "nbformat": 4,
 "nbformat_minor": 2
}
